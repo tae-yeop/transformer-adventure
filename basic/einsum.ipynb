{
  "nbformat": 4,
  "nbformat_minor": 0,
  "metadata": {
    "colab": {
      "name": "einsum.ipynb",
      "provenance": [],
      "collapsed_sections": [],
      "authorship_tag": "ABX9TyPlTAHuwYrXwaW85+hBaZMa",
      "include_colab_link": true
    },
    "kernelspec": {
      "name": "python3",
      "display_name": "Python 3"
    },
    "language_info": {
      "name": "python"
    }
  },
  "cells": [
    {
      "cell_type": "markdown",
      "metadata": {
        "id": "view-in-github",
        "colab_type": "text"
      },
      "source": [
        "<a href=\"https://colab.research.google.com/github/tae-yeop/transformer-adventure/blob/main/einsum.ipynb\" target=\"_parent\"><img src=\"https://colab.research.google.com/assets/colab-badge.svg\" alt=\"Open In Colab\"/></a>"
      ]
    },
    {
      "cell_type": "code",
      "execution_count": null,
      "metadata": {
        "id": "Utd3w5uBm_Qj"
      },
      "outputs": [],
      "source": [
        "import torch"
      ]
    },
    {
      "cell_type": "code",
      "source": [
        "x = torch.rand((2,3))"
      ],
      "metadata": {
        "id": "W1mZ8DrAnCms"
      },
      "execution_count": null,
      "outputs": []
    },
    {
      "cell_type": "code",
      "source": [
        "# Permutation of Tensors\n",
        "torch.einsum(\"ij->ji\", x)"
      ],
      "metadata": {
        "colab": {
          "base_uri": "https://localhost:8080/"
        },
        "id": "wa79Lyv_nGqI",
        "outputId": "c3fd3b2a-f645-44cd-e892-86884ddfc807"
      },
      "execution_count": null,
      "outputs": [
        {
          "output_type": "execute_result",
          "data": {
            "text/plain": [
              "tensor([[0.0210, 0.3896],\n",
              "        [0.6478, 0.4792],\n",
              "        [0.2264, 0.1302]])"
            ]
          },
          "metadata": {},
          "execution_count": 3
        }
      ]
    },
    {
      "cell_type": "code",
      "source": [
        "# Summation\n",
        "torch.einsum(\"ij->\",x)"
      ],
      "metadata": {
        "colab": {
          "base_uri": "https://localhost:8080/"
        },
        "id": "M5JXIn0JnMWk",
        "outputId": "cb8fe6d7-896a-4e08-85b4-adb6f9dd97e7"
      },
      "execution_count": null,
      "outputs": [
        {
          "output_type": "execute_result",
          "data": {
            "text/plain": [
              "tensor(1.8942)"
            ]
          },
          "metadata": {},
          "execution_count": 4
        }
      ]
    },
    {
      "cell_type": "code",
      "source": [
        "# Column sum\n",
        "torch.einsum(\"ij->j\", x)"
      ],
      "metadata": {
        "colab": {
          "base_uri": "https://localhost:8080/"
        },
        "id": "0e2cbYMCnTti",
        "outputId": "d3503902-8f69-4258-e4ff-1f01fdd76284"
      },
      "execution_count": null,
      "outputs": [
        {
          "output_type": "execute_result",
          "data": {
            "text/plain": [
              "tensor([0.4105, 1.1270, 0.3567])"
            ]
          },
          "metadata": {},
          "execution_count": 5
        }
      ]
    },
    {
      "cell_type": "code",
      "source": [
        "# Row sum\n",
        "torch.einsum(\"ij->i\", x)"
      ],
      "metadata": {
        "colab": {
          "base_uri": "https://localhost:8080/"
        },
        "id": "K7XhrnA0n2Sh",
        "outputId": "ce5dae36-a722-494b-a126-da5f2168d4ce"
      },
      "execution_count": null,
      "outputs": [
        {
          "output_type": "execute_result",
          "data": {
            "text/plain": [
              "tensor([0.8952, 0.9990])"
            ]
          },
          "metadata": {},
          "execution_count": 6
        }
      ]
    },
    {
      "cell_type": "code",
      "source": [
        "# Mat-vector mul\n",
        "v = torch.rand((1,3))\n",
        "torch.einsum(\"ik, jk-> ij\", x, v)  "
      ],
      "metadata": {
        "colab": {
          "base_uri": "https://localhost:8080/"
        },
        "id": "IqPCGo2yoCXC",
        "outputId": "9ac9c926-3d71-46c9-b9d0-2d42fbc0c58c"
      },
      "execution_count": null,
      "outputs": [
        {
          "output_type": "execute_result",
          "data": {
            "text/plain": [
              "tensor([[0.6803],\n",
              "        [0.5428]])"
            ]
          },
          "metadata": {},
          "execution_count": 7
        }
      ]
    },
    {
      "cell_type": "code",
      "source": [
        "# Mat- MAt mul\n",
        "x.mm(x.t())"
      ],
      "metadata": {
        "colab": {
          "base_uri": "https://localhost:8080/"
        },
        "id": "tAl3nfREogMC",
        "outputId": "33afcef7-46a9-4a85-b737-84c9d90e45dd"
      },
      "execution_count": null,
      "outputs": [
        {
          "output_type": "execute_result",
          "data": {
            "text/plain": [
              "tensor([[0.4713, 0.3481],\n",
              "        [0.3481, 0.3984]])"
            ]
          },
          "metadata": {},
          "execution_count": 8
        }
      ]
    },
    {
      "cell_type": "code",
      "source": [
        "torch.einsum('ij,kj->ik', x,x) #2x2 = 2x3 x 3x2"
      ],
      "metadata": {
        "colab": {
          "base_uri": "https://localhost:8080/"
        },
        "id": "JpzG-_42qHNN",
        "outputId": "f059ea1f-501f-41c8-a2cc-81135a498ad8"
      },
      "execution_count": null,
      "outputs": [
        {
          "output_type": "execute_result",
          "data": {
            "text/plain": [
              "tensor([[0.4713, 0.3481],\n",
              "        [0.3481, 0.3984]])"
            ]
          },
          "metadata": {},
          "execution_count": 9
        }
      ]
    },
    {
      "cell_type": "code",
      "source": [
        "# dot product first row with first row of matrix\n",
        "torch.einsum(\"i,i->\", x[0], x[0])"
      ],
      "metadata": {
        "colab": {
          "base_uri": "https://localhost:8080/"
        },
        "id": "pMWJCpstqh0M",
        "outputId": "e939437b-199f-4853-c819-20d95aec7f8b"
      },
      "execution_count": null,
      "outputs": [
        {
          "output_type": "execute_result",
          "data": {
            "text/plain": [
              "tensor(0.4713)"
            ]
          },
          "metadata": {},
          "execution_count": 10
        }
      ]
    },
    {
      "cell_type": "code",
      "source": [
        "# dot product with matrix\n",
        "torch.einsum(\"ij,ij->\", x,x)"
      ],
      "metadata": {
        "colab": {
          "base_uri": "https://localhost:8080/"
        },
        "id": "cLOgZ7FIrK2L",
        "outputId": "18ea8266-d22a-4549-9f53-2df689ff0c16"
      },
      "execution_count": null,
      "outputs": [
        {
          "output_type": "execute_result",
          "data": {
            "text/plain": [
              "tensor(0.8697)"
            ]
          },
          "metadata": {},
          "execution_count": 11
        }
      ]
    },
    {
      "cell_type": "code",
      "source": [
        "# Hadarmard product (element-wise mul)\n",
        "torch.einsum(\"ij,ij->ij\",x,x)"
      ],
      "metadata": {
        "colab": {
          "base_uri": "https://localhost:8080/"
        },
        "id": "y6eL-_PNr1X7",
        "outputId": "2a4c65e9-5b51-4839-99fb-024554ca68e9"
      },
      "execution_count": null,
      "outputs": [
        {
          "output_type": "execute_result",
          "data": {
            "text/plain": [
              "tensor([[0.0004, 0.4196, 0.0513],\n",
              "        [0.1518, 0.2297, 0.0170]])"
            ]
          },
          "metadata": {},
          "execution_count": 12
        }
      ]
    },
    {
      "cell_type": "code",
      "source": [
        "# Outer Product\n",
        "a = torch.rand((3))\n",
        "b = torch.rand((5))\n",
        "torch.einsum(\"i,j->ij\", a, b)"
      ],
      "metadata": {
        "colab": {
          "base_uri": "https://localhost:8080/"
        },
        "id": "13D1YGFlr9db",
        "outputId": "a1af03fe-ce9e-4258-92c6-664d146f9f16"
      },
      "execution_count": null,
      "outputs": [
        {
          "output_type": "execute_result",
          "data": {
            "text/plain": [
              "tensor([[0.0173, 0.0168, 0.0109, 0.0098, 0.0115],\n",
              "        [0.6634, 0.6455, 0.4171, 0.3767, 0.4407],\n",
              "        [0.0181, 0.0176, 0.0114, 0.0103, 0.0120]])"
            ]
          },
          "metadata": {},
          "execution_count": 13
        }
      ]
    },
    {
      "cell_type": "code",
      "source": [
        "# Batch Mat Mul torch.bmm\n",
        "a = torch.rand((3,2,5))\n",
        "b = torch.rand((3,5,3))\n",
        "torch.einsum(\"ijk, ikl->ijl\", a,b)"
      ],
      "metadata": {
        "colab": {
          "base_uri": "https://localhost:8080/"
        },
        "id": "2bcxy2CMsXNH",
        "outputId": "2286af48-5c88-4b96-e404-c1052e6dcaef"
      },
      "execution_count": null,
      "outputs": [
        {
          "output_type": "execute_result",
          "data": {
            "text/plain": [
              "tensor([[[1.2259, 1.6076, 1.2571],\n",
              "         [0.6729, 0.8537, 0.6645]],\n",
              "\n",
              "        [[1.1284, 0.6684, 1.5305],\n",
              "         [0.8756, 0.3105, 1.1591]],\n",
              "\n",
              "        [[0.6177, 1.1588, 1.6288],\n",
              "         [0.4138, 1.6821, 1.6748]]])"
            ]
          },
          "metadata": {},
          "execution_count": 14
        }
      ]
    },
    {
      "cell_type": "code",
      "source": [
        "# matrix diagonal\n",
        "x = torch.rand((3,3))\n",
        "print(x)\n",
        "print(torch.einsum(\"ii->i\",x))"
      ],
      "metadata": {
        "colab": {
          "base_uri": "https://localhost:8080/"
        },
        "id": "azNc1ddcssnu",
        "outputId": "92e8d408-8115-4f53-a45b-12e993e94615"
      },
      "execution_count": null,
      "outputs": [
        {
          "output_type": "stream",
          "name": "stdout",
          "text": [
            "tensor([[0.9161, 0.7520, 0.3607],\n",
            "        [0.4375, 0.4931, 0.9783],\n",
            "        [0.3216, 0.2977, 0.7750]])\n",
            "tensor([0.9161, 0.4931, 0.7750])\n"
          ]
        }
      ]
    },
    {
      "cell_type": "code",
      "source": [
        "# matrix trace\n",
        "torch.einsum(\"ii->\",x)"
      ],
      "metadata": {
        "colab": {
          "base_uri": "https://localhost:8080/"
        },
        "id": "W8CQdEfQtmQx",
        "outputId": "82bd60e1-3848-402f-c553-a6bc72aa0654"
      },
      "execution_count": null,
      "outputs": [
        {
          "output_type": "execute_result",
          "data": {
            "text/plain": [
              "tensor(2.1842)"
            ]
          },
          "metadata": {},
          "execution_count": 17
        }
      ]
    },
    {
      "cell_type": "code",
      "source": [
        ""
      ],
      "metadata": {
        "id": "x-PYmo2St6_t"
      },
      "execution_count": null,
      "outputs": []
    }
  ]
}