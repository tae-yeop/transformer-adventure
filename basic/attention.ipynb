{
  "nbformat": 4,
  "nbformat_minor": 0,
  "metadata": {
    "colab": {
      "name": "attention.ipynb",
      "provenance": [],
      "collapsed_sections": [],
      "authorship_tag": "ABX9TyNUuvXevwut60kbvzcUchPt",
      "include_colab_link": true
    },
    "kernelspec": {
      "name": "python3",
      "display_name": "Python 3"
    },
    "language_info": {
      "name": "python"
    }
  },
  "cells": [
    {
      "cell_type": "markdown",
      "metadata": {
        "id": "view-in-github",
        "colab_type": "text"
      },
      "source": [
        "<a href=\"https://colab.research.google.com/github/tae-yeop/transformer-adventure/blob/main/attention.ipynb\" target=\"_parent\"><img src=\"https://colab.research.google.com/assets/colab-badge.svg\" alt=\"Open In Colab\"/></a>"
      ]
    },
    {
      "cell_type": "markdown",
      "metadata": {
        "id": "vKI7pY9ZhDyz"
      },
      "source": [
        "https://github.com/The-AI-Summer/self-attention-cv/blob/8280009366b633921342db6cab08da17b46fdf1c/self_attention_cv/transformer_vanilla/transformer_block.py"
      ]
    },
    {
      "cell_type": "code",
      "metadata": {
        "colab": {
          "base_uri": "https://localhost:8080/"
        },
        "id": "Eb6Z8m4QUsiy",
        "outputId": "1c0664a2-fb8b-4714-e796-1b35249e28f7"
      },
      "source": [
        "!pip install einops"
      ],
      "execution_count": null,
      "outputs": [
        {
          "output_type": "stream",
          "name": "stdout",
          "text": [
            "Collecting einops\n",
            "  Downloading einops-0.3.2-py3-none-any.whl (25 kB)\n",
            "Installing collected packages: einops\n",
            "Successfully installed einops-0.3.2\n"
          ]
        }
      ]
    },
    {
      "cell_type": "code",
      "metadata": {
        "id": "j2iKHDs0TwUI"
      },
      "source": [
        "import numpy as np\n",
        "import torch\n",
        "\n",
        "from einops import rearrange\n",
        "from torch import nn"
      ],
      "execution_count": null,
      "outputs": []
    },
    {
      "cell_type": "markdown",
      "metadata": {
        "id": "t9ZQ9SMWbchi"
      },
      "source": [
        "# Self Attention"
      ]
    },
    {
      "cell_type": "code",
      "metadata": {
        "id": "2A9hYT2QUhX5"
      },
      "source": [
        "class SelfAttention(nn.Module):\n",
        "  def __init__(self, dim):\n",
        "    super().__init__()\n",
        "    self.to_qvk = nn.Linear(dim, dim*3, bias=False)\n",
        "    self.scale_factor = dim ** -0.5\n",
        "\n",
        "  def forward(self, x, mask=None):\n",
        "    \"\"\"\n",
        "    x : [b, T, d]\n",
        "    Returns : [b, T, d]\n",
        "    \"\"\"\n",
        "    assert x.dim() == 3, '3D tensor must be provided'\n",
        "    # [B, tokens, dim*3]\n",
        "    qvk = self.to_qvk(x)\n",
        "\n",
        "    q, k, v = tuple(rearrange(qvk, 'b t (d k) -> k b t d', k=3))\n",
        "\n",
        "    # [batch, tokens, tokens]\n",
        "    scaled_dot_prod = torch.einsum('b i d, b j d -> b i j', q, k) * self.scale_factor\n",
        "\n",
        "    if mask is not None:\n",
        "      # check shape = [tokens, tokens]\n",
        "      assert mask.shape == scaled_dot_prod.shape[1:]\n",
        "      scaled_dot_prod = scaled_dot_prod.masked_fill(mask==0, -np.inf)\n",
        "    attention = torch.softmax(scaled_dot_prod, dim=-1)\n",
        "    return torch.einsum('b i j, b j d -> b i d', attention, v)\n"
      ],
      "execution_count": null,
      "outputs": []
    },
    {
      "cell_type": "code",
      "metadata": {
        "colab": {
          "base_uri": "https://localhost:8080/"
        },
        "id": "_bwSpkflbIJW",
        "outputId": "36ffadb4-45cf-4166-8755-b727be583660"
      },
      "source": [
        "# Test\n",
        "sa = SelfAttention(32)\n",
        "t = torch.randn((8, 16, 32))\n",
        "sa(t).shape"
      ],
      "execution_count": null,
      "outputs": [
        {
          "output_type": "execute_result",
          "data": {
            "text/plain": [
              "torch.Size([8, 16, 32])"
            ]
          },
          "metadata": {},
          "execution_count": 61
        }
      ]
    },
    {
      "cell_type": "markdown",
      "metadata": {
        "id": "wXvwqHQNa9cu"
      },
      "source": [
        "# MHSA"
      ]
    },
    {
      "cell_type": "code",
      "metadata": {
        "id": "mFtluLZ7bhRX"
      },
      "source": [
        "def compute_mhsa(q, k, v, scaled_factor=1, mask=None):\n",
        "  \"\"\"\n",
        "  Returns : [batch, heads, tokens, dim]\n",
        "  \"\"\"\n",
        "  # scaled_dot_prod.shape = [b, h, token, token]\n",
        "  scaled_dot_prod = torch.einsum('... i d, ... j d -> ... i j', q, k) * scaled_factor\n",
        "\n",
        "  if mask is not None:\n",
        "    assert mask.shape == scaled_dot_prod.shape[2:]\n",
        "    scaled_dot_prod = scaled_dot_prod.masked_fill(maks==0, -np.inf)\n",
        "\n",
        "  attention = torch.softmax(scaled_dot_prod, dim=-1)\n",
        "  return torch.einsum('... i j, ... j d -> ... i d', attention, v)"
      ],
      "execution_count": null,
      "outputs": []
    },
    {
      "cell_type": "code",
      "metadata": {
        "id": "MgfTeexocwOJ"
      },
      "source": [
        "class MultiHeadSelfAttention(nn.Module):\n",
        "  def __init__(self, dim, heads=8, dim_head=None):\n",
        "    \"\"\"\n",
        "    Implementation of multi-head attention layer of the original transformer model.\n",
        "    einsum and einops.rearrange is used whenever possible\n",
        "    Args:\n",
        "        dim: token's dimension, i.e. word embedding vector size\n",
        "        heads: the number of distinct representations to learn\n",
        "        dim_head: the dim of the head. In general dim_head<dim.\n",
        "        However, it may not necessary be (dim/heads)\n",
        "    \"\"\"\n",
        "    # dim이 head의 배수로 맞아떨어지지 않는 경우까지 고려했음\n",
        "    super().__init__()\n",
        "    self.dim_head = (int(dim / heads)) if dim_head is None else dim_head\n",
        "    _dim = self.dim_head * heads\n",
        "\n",
        "    self.heads = heads\n",
        "    self.to_qvk = nn.Linear(dim, _dim*3, bias=False)\n",
        "    \n",
        "    self.W_0 = nn.Linear(_dim, dim, bias=False)\n",
        "    self.scale_factor = self.dim_head * -0.5\n",
        "\n",
        "  def forward(self, x, mask=None):\n",
        "    assert x.dim() == 3\n",
        "    qkv = self.to_qvk(x)\n",
        "\n",
        "    q,k,v = tuple(rearrange(qkv, 'b t (d k h) -> k b h t d', k=3, h=self.heads))\n",
        "\n",
        "    out = compute_mhsa(q, k, v, self.scale_factor)\n",
        "\n",
        "    out = rearrange(out, 'b h t d -> b t (h d)')\n",
        "    return self.W_0(out)\n",
        "\n"
      ],
      "execution_count": null,
      "outputs": []
    },
    {
      "cell_type": "code",
      "metadata": {
        "colab": {
          "base_uri": "https://localhost:8080/"
        },
        "id": "3u7Dc3dpfVH-",
        "outputId": "e71e1788-6906-46c5-fba1-ba33ab644aea"
      },
      "source": [
        "mhsa = MultiHeadSelfAttention(32, 8)\n",
        "t = torch.randn((8, 16, 32))\n",
        "mhsa(t).shape"
      ],
      "execution_count": null,
      "outputs": [
        {
          "output_type": "execute_result",
          "data": {
            "text/plain": [
              "torch.Size([8, 16, 32])"
            ]
          },
          "metadata": {},
          "execution_count": 76
        }
      ]
    },
    {
      "cell_type": "markdown",
      "metadata": {
        "id": "HHbBhvNlfdVP"
      },
      "source": [
        "# Vanilla Transformer"
      ]
    },
    {
      "cell_type": "code",
      "metadata": {
        "id": "5T71ubEEnwm2"
      },
      "source": [
        "import os\n",
        "import random\n",
        "from typing import List, Tuple\n",
        "\n",
        "import numpy as np\n",
        "import torch\n",
        "from einops import repeat\n",
        "from torch import Tensor, nn"
      ],
      "execution_count": null,
      "outputs": []
    },
    {
      "cell_type": "code",
      "metadata": {
        "id": "edVeoi9Wf4nS"
      },
      "source": [
        "def expand_to_batch(tensor, desire_size):\n",
        "  tile = desired_size // tensor.shape[0]\n",
        "  return repeat(tensor, 'b ... -> (b tile) ...', tile=tile)\n",
        "\n",
        "def init_random_seed(seed, gpu=False):\n",
        "  random.seed(seed)\n",
        "  np.random.seed(seed)\n",
        "  torch.manual_seed(seed)\n",
        "  torch.cuda.manual_seed(seed)\n",
        "  torch.cuda.manual_seed_all(seed)\n",
        "  os.envision['PYTHONHASHSEED'] = str(seed)\n",
        "  if gpu:\n",
        "    torch.backends.cudnn.deterministic = True\n",
        "\n",
        "# from https://huggingface.co/transformers/_modules/transformers/modeling_utils.html\n",
        "def get_module_device(parameter : nn.Module):\n",
        "  try:\n",
        "    return next(parameter.parameters()).device\n",
        "  except StopIteration:\n",
        "    # For nn.DataParallel compatibility in PyTorch 1.5\n",
        "    def find_tensor_attributes(module : nn.Module) -> List[Tuple[str, Tensor]]:\n",
        "      tuples = [(k, v) for k,v in module.__dict__.items() if torch.is_tensor(v)]\n",
        "      return tuples\n",
        "  gen = parameter._named_members(get_members_fn=find_tensor_attributes)\n",
        "  first_tuple = next(gen)\n",
        "  return first_tuple[1].device"
      ],
      "execution_count": null,
      "outputs": []
    },
    {
      "cell_type": "code",
      "metadata": {
        "id": "ifbZIOSqrJ94"
      },
      "source": [
        "class TransformerBlock(nn.Module):\n",
        "  def __init__(self, dim, heads=8, dim_head=None, dim_linear_block=1024, dropout=0.1, activation=nn.GELU,\n",
        "               mhsa=None, prenorm=False):\n",
        "    \"\"\"\n",
        "    Args:\n",
        "        dim: token's vector length\n",
        "        heads: number of heads\n",
        "        dim_head: if none dim/heads is used\n",
        "        dim_linear_block: the inner projection dim\n",
        "        dropout: probability of droppping values\n",
        "        mhsa: if provided you can change the vanilla self-attention block\n",
        "        prenorm: if the layer norm will be applied before the mhsa or after\n",
        "    \"\"\"\n",
        "    super().__init__()\n",
        "    self.mhsa = mhsa if mhsa is not None else MultiHeadSelfAttention(dim=dim, heads=heads, dim_head_dim = dim_head)\n",
        "    self.prenorm = prenorm\n",
        "    self.drop = nn.Dropout(dropout)\n",
        "    self.norm_1 = nn.LayerNorm(dim)\n",
        "    self.norm_2 = nn.LayerNorm(dim)\n",
        "\n",
        "    self.linear = nn.Sequential(nn.Linear(dim, dim_linear_block), \n",
        "                                activation(), \n",
        "                                nn.Dropout(dropout),\n",
        "                                nn.Linear(dim_linear_block, dim),\n",
        "                                nn.Dropout(dropout))\n",
        "  \n",
        "  def forward(self, x, mask=None):\n",
        "    if self.prenorm:\n",
        "      y = self.drop(self.mhsa(self.norm_1(x), mask)) + x\n",
        "      out = self.linear(self.norm_2(y)) + y\n",
        "    else:\n",
        "      y = self.norm_1(self.drop(self.mhsa(x, mask)) + x)\n",
        "      out = self.norm_2(self.linear(y) + y)\n",
        "\n",
        "      return out"
      ],
      "execution_count": null,
      "outputs": []
    },
    {
      "cell_type": "code",
      "metadata": {
        "id": "7z2ddJ5dtNXI"
      },
      "source": [
        "class TransformerEncoder(nn.Module):\n",
        "  def __init__(self, dim, blocks=6, heads=8, dim_head=None, dim_linear_block=1024, dropout=0, prenorm=False):\n",
        "    super().__init__()\n",
        "    self.block_list = [TransformerBlock(dim, heads, dim_head, dim_linear_block, dropout, prenorm=prenomr) for _ in range(blocks)]\n",
        "    self.layers = nn.ModuleList(self.block_list)\n",
        "\n",
        "  def forward(self, x, mask=None):\n",
        "    for layer in self.layers:\n",
        "      x = layer(x, mask)\n",
        "    return x"
      ],
      "execution_count": null,
      "outputs": []
    },
    {
      "cell_type": "markdown",
      "metadata": {
        "id": "_3iCUG4D5md2"
      },
      "source": [
        ""
      ]
    },
    {
      "cell_type": "code",
      "metadata": {
        "id": "YFxZBv3u5m9G"
      },
      "source": [
        "import copy\n",
        "\n",
        "def get_clones(module, N):\n",
        "  return nn.ModuleList([copy.deepcopy(module) for i in range(N)])"
      ],
      "execution_count": null,
      "outputs": []
    },
    {
      "cell_type": "code",
      "metadata": {
        "id": "7jMrrCvV57ep"
      },
      "source": [
        "class Encoder(nn.Module):\n",
        "  def __init__(self, vocab_size, d_model, N, heads, dropout):\n",
        "    super().__init__()\n",
        "    self.N = N\n",
        "    self.embed = Embedder(vocab_size, d_model)\n",
        "    self.pe = PositionalEncoder(d_model, dropout=dropout)\n",
        "    self.layers = get_clones(Encoder)"
      ],
      "execution_count": null,
      "outputs": []
    }
  ]
}